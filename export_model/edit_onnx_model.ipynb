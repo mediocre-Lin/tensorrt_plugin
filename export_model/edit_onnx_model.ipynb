{
 "cells": [
  {
   "cell_type": "code",
   "execution_count": 1,
   "id": "7fca601a-d94d-4465-9cc5-225ce94f666c",
   "metadata": {},
   "outputs": [],
   "source": [
    "import onnx\n",
    "import onnx.helper as helper\n",
    "import numpy as np"
   ]
  },
  {
   "cell_type": "code",
   "execution_count": 2,
   "id": "ef0bbd89-6298-47dc-a4a2-63f175ec40b3",
   "metadata": {},
   "outputs": [],
   "source": [
    "onnx_model = onnx.load(\"test_add.onnx\")\n",
    "graph = onnx_model.graph\n",
    "nodes = graph.node"
   ]
  },
  {
   "cell_type": "code",
   "execution_count": 3,
   "id": "d37a4e37-d90c-479e-822e-6fda5f77f937",
   "metadata": {},
   "outputs": [],
   "source": [
    "def make_test_add_node(inputs_name, output_name,node_name = 'test_add_0', bias_value = 2.):\n",
    "    test_add_node = helper.make_node(\n",
    "        op_type = 'TestAdd',\n",
    "        name = node_name,\n",
    "        inputs = inputs_name,\n",
    "        outputs = output_name,\n",
    "        alpha = bias_value\n",
    "    )\n",
    "    return test_add_node"
   ]
  },
  {
   "cell_type": "code",
   "execution_count": 4,
   "id": "75d129fc-7f37-4490-a912-102b5f6db0e3",
   "metadata": {},
   "outputs": [],
   "source": [
    "remove_node_names = ['Add_5', 'Add_6','Constant_4']"
   ]
  },
  {
   "cell_type": "code",
   "execution_count": 5,
   "id": "dd04d7b0-a460-4074-b10a-483fed25b378",
   "metadata": {},
   "outputs": [],
   "source": [
    "remove_node_idxs = []\n"
   ]
  },
  {
   "cell_type": "code",
   "execution_count": 6,
   "id": "ca697cc1-fd72-4b04-a32f-83aa4837322c",
   "metadata": {},
   "outputs": [],
   "source": [
    "new_node_input_names = ['x_out','y_out']\n",
    "new_node_output_name = ['onnx::Gemm_12']"
   ]
  },
  {
   "cell_type": "code",
   "execution_count": 7,
   "id": "797b0d8a-da6c-453a-bb9b-fe1b83660ce7",
   "metadata": {},
   "outputs": [
    {
     "name": "stdout",
     "output_type": "stream",
     "text": [
      "Gemm_7 : input: \"onnx::Gemm_12\"\n",
      "input: \"linear2.weight\"\n",
      "input: \"linear2.bias\"\n",
      "output: \"out\"\n",
      "name: \"Gemm_7\"\n",
      "op_type: \"Gemm\"\n",
      "attribute {\n",
      "  name: \"alpha\"\n",
      "  f: 1.0\n",
      "  type: FLOAT\n",
      "}\n",
      "attribute {\n",
      "  name: \"beta\"\n",
      "  f: 1.0\n",
      "  type: FLOAT\n",
      "}\n",
      "attribute {\n",
      "  name: \"transB\"\n",
      "  i: 1\n",
      "  type: INT\n",
      "}\n",
      "\n"
     ]
    }
   ],
   "source": [
    " for i in range(len(nodes)):\n",
    "    node_name = nodes[i].name\n",
    "    if node_name == 'Gemm_7':\n",
    "        print(f'{node_name} : {nodes[i]}')\n",
    "        nodes.insert(\n",
    "            i,\n",
    "            make_test_add_node(\n",
    "                new_node_input_names,\n",
    "                new_node_output_name,\n",
    "            )\n",
    "        )\n",
    "        break"
   ]
  },
  {
   "cell_type": "code",
   "execution_count": 8,
   "id": "90b2c7e8-6d4e-4f49-ba02-b8ed6dd7be69",
   "metadata": {},
   "outputs": [
    {
     "name": "stdout",
     "output_type": "stream",
     "text": [
      "id : 0 , node_name :Gemm_0\n",
      "id : 1 , node_name :Constant_1\n",
      "id : 2 , node_name :Add_2\n",
      "id : 3 , node_name :Gemm_3\n",
      "id : 4 , node_name :Constant_4\n",
      "Constant_4 : output: \"onnx::Add_10\"\n",
      "name: \"Constant_4\"\n",
      "op_type: \"Constant\"\n",
      "attribute {\n",
      "  name: \"value\"\n",
      "  t {\n",
      "    data_type: 1\n",
      "    raw_data: \"\\000\\000\\000@\"\n",
      "  }\n",
      "  type: TENSOR\n",
      "}\n",
      "\n",
      "id : 5 , node_name :Add_5\n",
      "Add_5 : input: \"x_out\"\n",
      "input: \"onnx::Add_10\"\n",
      "output: \"onnx::Add_11\"\n",
      "name: \"Add_5\"\n",
      "op_type: \"Add\"\n",
      "\n",
      "id : 6 , node_name :Add_6\n",
      "Add_6 : input: \"onnx::Add_11\"\n",
      "input: \"y_out\"\n",
      "output: \"onnx::Gemm_12\"\n",
      "name: \"Add_6\"\n",
      "op_type: \"Add\"\n",
      "\n",
      "id : 7 , node_name :test_add_0\n",
      "id : 8 , node_name :Gemm_7\n",
      "id : 9 , node_name :Relu_8\n"
     ]
    }
   ],
   "source": [
    "for i in range(len(nodes)):\n",
    "    node_name = nodes[i].name\n",
    "    print(f'id : {i} , node_name :{node_name}')\n",
    "    if node_name in remove_node_names:\n",
    "        remove_node_idxs.append(i)\n",
    "        print(f'{node_name} : {nodes[i]}')"
   ]
  },
  {
   "cell_type": "code",
   "execution_count": 9,
   "id": "f967e275-1143-4ebe-9fb8-2ab69dc8bc67",
   "metadata": {},
   "outputs": [],
   "source": [
    "remove_node_idxs.reverse()"
   ]
  },
  {
   "cell_type": "code",
   "execution_count": 10,
   "id": "e504a467-220c-4831-97be-258e06d48948",
   "metadata": {},
   "outputs": [
    {
     "name": "stdout",
     "output_type": "stream",
     "text": [
      "input: \"onnx::Add_11\"\n",
      "input: \"y_out\"\n",
      "output: \"onnx::Gemm_12\"\n",
      "name: \"Add_6\"\n",
      "op_type: \"Add\"\n",
      "\n",
      "input: \"x_out\"\n",
      "input: \"onnx::Add_10\"\n",
      "output: \"onnx::Add_11\"\n",
      "name: \"Add_5\"\n",
      "op_type: \"Add\"\n",
      "\n",
      "output: \"onnx::Add_10\"\n",
      "name: \"Constant_4\"\n",
      "op_type: \"Constant\"\n",
      "attribute {\n",
      "  name: \"value\"\n",
      "  t {\n",
      "    data_type: 1\n",
      "    raw_data: \"\\000\\000\\000@\"\n",
      "  }\n",
      "  type: TENSOR\n",
      "}\n",
      "\n"
     ]
    }
   ],
   "source": [
    "for remove_node_idx in remove_node_idxs:\n",
    "    print(nodes[remove_node_idx])\n",
    "    nodes.remove(nodes[remove_node_idx])"
   ]
  },
  {
   "cell_type": "code",
   "execution_count": 11,
   "id": "293ec146-72a2-43c1-aefe-e81328215833",
   "metadata": {},
   "outputs": [],
   "source": [
    "onnx.save(onnx_model, 'edited_model.onnx')"
   ]
  },
  {
   "cell_type": "code",
   "execution_count": null,
   "id": "7a2a0e01-8a7a-4062-96c7-b52d8ad5ba4d",
   "metadata": {},
   "outputs": [],
   "source": [
    "    "
   ]
  },
  {
   "cell_type": "code",
   "execution_count": null,
   "id": "8e94e309-5877-40a8-9eb7-78d2313516ad",
   "metadata": {},
   "outputs": [],
   "source": []
  }
 ],
 "metadata": {
  "kernelspec": {
   "display_name": "Python 3 (ipykernel)",
   "language": "python",
   "name": "python3"
  },
  "language_info": {
   "codemirror_mode": {
    "name": "ipython",
    "version": 3
   },
   "file_extension": ".py",
   "mimetype": "text/x-python",
   "name": "python",
   "nbconvert_exporter": "python",
   "pygments_lexer": "ipython3",
   "version": "3.8.17"
  }
 },
 "nbformat": 4,
 "nbformat_minor": 5
}
